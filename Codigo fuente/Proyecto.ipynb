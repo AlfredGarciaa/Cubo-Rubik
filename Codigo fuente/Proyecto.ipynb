{
 "cells": [
  {
   "cell_type": "code",
   "execution_count": 1,
   "id": "e81161fd-06a0-4823-a747-8843da4d9e46",
   "metadata": {},
   "outputs": [],
   "source": [
    "import matplotlib.pyplot as plt\n",
    "import numpy as np\n",
    "from mpl_toolkits.mplot3d import Axes3D"
   ]
  },
  {
   "cell_type": "code",
   "execution_count": 3,
   "id": "b83e2475-c1b0-4839-b8ab-4a09e00c79a4",
   "metadata": {},
   "outputs": [],
   "source": [
    "class RubiksCube:\n",
    "    def __init__(self):\n",
    "        # Inicializa el cubo de Rubik como una matriz tridimensional\n",
    "        # Cada cara del cubo está representada por un número:\n",
    "        # 0: Blanco, 1: Rojo, 2: Verde, 3: Azul, 4: Naranja, 5: Amarillo\n",
    "        pass\n",
    "\n",
    "    def __str__(self):\n",
    "        # Devuelve una representación visual del estado actual del cubo\n",
    "        result = \"\"\n",
    "        for face in self.cube:\n",
    "            for row in face:\n",
    "                for color in row:\n",
    "                    result += str(color) + \" \"\n",
    "                result += \"\\n    \"\n",
    "            result += \"\\n\"\n",
    "        return result\n",
    "\n",
    "# Crea un cubo de Rubik y muestra su estado inicial\n",
    "cube = RubiksCube()\n",
    "#print(cube)"
   ]
  },
  {
   "cell_type": "code",
   "execution_count": null,
   "id": "fd6cc1a9-57d8-4756-a17a-345bd3899a78",
   "metadata": {},
   "outputs": [],
   "source": []
  },
  {
   "cell_type": "code",
   "execution_count": null,
   "id": "4fdc49c0-c9bd-4289-a0a4-64fbe1d09c16",
   "metadata": {},
   "outputs": [],
   "source": []
  },
  {
   "cell_type": "code",
   "execution_count": null,
   "id": "794f3830-ec2a-4794-b988-cb8af3ff0741",
   "metadata": {},
   "outputs": [],
   "source": []
  }
 ],
 "metadata": {
  "kernelspec": {
   "display_name": "Python 3 (ipykernel)",
   "language": "python",
   "name": "python3"
  },
  "language_info": {
   "codemirror_mode": {
    "name": "ipython",
    "version": 3
   },
   "file_extension": ".py",
   "mimetype": "text/x-python",
   "name": "python",
   "nbconvert_exporter": "python",
   "pygments_lexer": "ipython3",
   "version": "3.11.5"
  }
 },
 "nbformat": 4,
 "nbformat_minor": 5
}
