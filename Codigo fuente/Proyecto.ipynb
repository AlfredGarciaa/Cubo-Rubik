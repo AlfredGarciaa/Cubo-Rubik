{
 "cells": [
  {
   "cell_type": "code",
   "execution_count": 1,
   "id": "e81161fd-06a0-4823-a747-8843da4d9e46",
   "metadata": {},
   "outputs": [],
   "source": [
    "import matplotlib.pyplot as plt\n",
    "import numpy as np\n",
    "from mpl_toolkits.mplot3d import Axes3D"
   ]
  },
  {
   "cell_type": "code",
   "execution_count": 2,
   "id": "b83e2475-c1b0-4839-b8ab-4a09e00c79a4",
   "metadata": {},
   "outputs": [],
   "source": [
    "class Cuboid:\n",
    "    def __init__(self, c, d, col):\n",
    "        self.c = c\n",
    "        self.d = d\n",
    "        self.col = col\n",
    "    \n",
    "    def corners(self):\n",
    "        x, y, z = self.c\n",
    "        h_d = self.d / 2\n",
    "        corners = np.array([\n",
    "            [x + h_d, y + h_d, z + h_d],\n",
    "            [x + h_d, y + h_d, z - h_d],\n",
    "            [x + h_d, y - h_d, z + h_d],\n",
    "            [x + h_d, y - h_d, z - h_d],\n",
    "            [x - h_d, y + h_d, z + h_d],\n",
    "            [x - h_d, y + h_d, z - h_d],\n",
    "            [x - h_d, y - h_d, z + h_d],\n",
    "            [x - h_d, y - h_d, z - h_d]\n",
    "        ])\n",
    "        return corners"
   ]
  },
  {
   "cell_type": "code",
   "execution_count": null,
   "id": "fd6cc1a9-57d8-4756-a17a-345bd3899a78",
   "metadata": {},
   "outputs": [],
   "source": []
  },
  {
   "cell_type": "code",
   "execution_count": null,
   "id": "4fdc49c0-c9bd-4289-a0a4-64fbe1d09c16",
   "metadata": {},
   "outputs": [],
   "source": []
  },
  {
   "cell_type": "code",
   "execution_count": null,
   "id": "794f3830-ec2a-4794-b988-cb8af3ff0741",
   "metadata": {},
   "outputs": [],
   "source": []
  }
 ],
 "metadata": {
  "kernelspec": {
   "display_name": "Python 3 (ipykernel)",
   "language": "python",
   "name": "python3"
  },
  "language_info": {
   "codemirror_mode": {
    "name": "ipython",
    "version": 3
   },
   "file_extension": ".py",
   "mimetype": "text/x-python",
   "name": "python",
   "nbconvert_exporter": "python",
   "pygments_lexer": "ipython3",
   "version": "3.11.5"
  }
 },
 "nbformat": 4,
 "nbformat_minor": 5
}
